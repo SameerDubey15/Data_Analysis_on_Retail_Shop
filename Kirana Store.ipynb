{
 "cells": [
  {
   "cell_type": "markdown",
   "id": "57823b2b",
   "metadata": {},
   "source": [
    "## Importing Required libraries"
   ]
  },
  {
   "cell_type": "code",
   "execution_count": 2,
   "id": "63354d48",
   "metadata": {},
   "outputs": [],
   "source": [
    "import numpy as np\n",
    "import pandas as pd\n",
    "import matplotlib.pyplot as plt\n",
    "import seaborn as sns"
   ]
  },
  {
   "cell_type": "markdown",
   "id": "be25f0c4",
   "metadata": {},
   "source": [
    "## Importing dataset"
   ]
  },
  {
   "cell_type": "code",
   "execution_count": 3,
   "id": "0c1ad67b",
   "metadata": {},
   "outputs": [],
   "source": [
    "df=pd.read_excel('RetailPulseAssignmentData.xlsx')"
   ]
  },
  {
   "cell_type": "code",
   "execution_count": 4,
   "id": "1b4e6b7b",
   "metadata": {},
   "outputs": [
    {
     "data": {
      "text/html": [
       "<div>\n",
       "<style scoped>\n",
       "    .dataframe tbody tr th:only-of-type {\n",
       "        vertical-align: middle;\n",
       "    }\n",
       "\n",
       "    .dataframe tbody tr th {\n",
       "        vertical-align: top;\n",
       "    }\n",
       "\n",
       "    .dataframe thead th {\n",
       "        text-align: right;\n",
       "    }\n",
       "</style>\n",
       "<table border=\"1\" class=\"dataframe\">\n",
       "  <thead>\n",
       "    <tr style=\"text-align: right;\">\n",
       "      <th></th>\n",
       "      <th>Invoice</th>\n",
       "      <th>StockCode</th>\n",
       "      <th>Description</th>\n",
       "      <th>Quantity</th>\n",
       "      <th>InvoiceDate</th>\n",
       "      <th>Price</th>\n",
       "      <th>Customer ID</th>\n",
       "      <th>Country</th>\n",
       "    </tr>\n",
       "  </thead>\n",
       "  <tbody>\n",
       "    <tr>\n",
       "      <th>0</th>\n",
       "      <td>489434</td>\n",
       "      <td>85048</td>\n",
       "      <td>15CM CHRISTMAS GLASS BALL 20 LIGHTS</td>\n",
       "      <td>12</td>\n",
       "      <td>2009-12-01 07:45:00</td>\n",
       "      <td>6.95</td>\n",
       "      <td>13085.0</td>\n",
       "      <td>United Kingdom</td>\n",
       "    </tr>\n",
       "    <tr>\n",
       "      <th>1</th>\n",
       "      <td>489434</td>\n",
       "      <td>79323P</td>\n",
       "      <td>PINK CHERRY LIGHTS</td>\n",
       "      <td>12</td>\n",
       "      <td>2009-12-01 07:45:00</td>\n",
       "      <td>6.75</td>\n",
       "      <td>13085.0</td>\n",
       "      <td>United Kingdom</td>\n",
       "    </tr>\n",
       "    <tr>\n",
       "      <th>2</th>\n",
       "      <td>489434</td>\n",
       "      <td>79323W</td>\n",
       "      <td>WHITE CHERRY LIGHTS</td>\n",
       "      <td>12</td>\n",
       "      <td>2009-12-01 07:45:00</td>\n",
       "      <td>6.75</td>\n",
       "      <td>13085.0</td>\n",
       "      <td>United Kingdom</td>\n",
       "    </tr>\n",
       "    <tr>\n",
       "      <th>3</th>\n",
       "      <td>489434</td>\n",
       "      <td>22041</td>\n",
       "      <td>RECORD FRAME 7\" SINGLE SIZE</td>\n",
       "      <td>48</td>\n",
       "      <td>2009-12-01 07:45:00</td>\n",
       "      <td>2.10</td>\n",
       "      <td>13085.0</td>\n",
       "      <td>United Kingdom</td>\n",
       "    </tr>\n",
       "    <tr>\n",
       "      <th>4</th>\n",
       "      <td>489434</td>\n",
       "      <td>21232</td>\n",
       "      <td>STRAWBERRY CERAMIC TRINKET BOX</td>\n",
       "      <td>24</td>\n",
       "      <td>2009-12-01 07:45:00</td>\n",
       "      <td>1.25</td>\n",
       "      <td>13085.0</td>\n",
       "      <td>United Kingdom</td>\n",
       "    </tr>\n",
       "  </tbody>\n",
       "</table>\n",
       "</div>"
      ],
      "text/plain": [
       "  Invoice StockCode                          Description  Quantity  \\\n",
       "0  489434     85048  15CM CHRISTMAS GLASS BALL 20 LIGHTS        12   \n",
       "1  489434    79323P                   PINK CHERRY LIGHTS        12   \n",
       "2  489434    79323W                  WHITE CHERRY LIGHTS        12   \n",
       "3  489434     22041         RECORD FRAME 7\" SINGLE SIZE         48   \n",
       "4  489434     21232       STRAWBERRY CERAMIC TRINKET BOX        24   \n",
       "\n",
       "          InvoiceDate  Price  Customer ID         Country  \n",
       "0 2009-12-01 07:45:00   6.95      13085.0  United Kingdom  \n",
       "1 2009-12-01 07:45:00   6.75      13085.0  United Kingdom  \n",
       "2 2009-12-01 07:45:00   6.75      13085.0  United Kingdom  \n",
       "3 2009-12-01 07:45:00   2.10      13085.0  United Kingdom  \n",
       "4 2009-12-01 07:45:00   1.25      13085.0  United Kingdom  "
      ]
     },
     "execution_count": 4,
     "metadata": {},
     "output_type": "execute_result"
    }
   ],
   "source": [
    "df.head()"
   ]
  },
  {
   "cell_type": "code",
   "execution_count": 5,
   "id": "f3ccafcd",
   "metadata": {},
   "outputs": [
    {
     "name": "stdout",
     "output_type": "stream",
     "text": [
      "<class 'pandas.core.frame.DataFrame'>\n",
      "RangeIndex: 525461 entries, 0 to 525460\n",
      "Data columns (total 8 columns):\n",
      " #   Column       Non-Null Count   Dtype         \n",
      "---  ------       --------------   -----         \n",
      " 0   Invoice      525461 non-null  object        \n",
      " 1   StockCode    525461 non-null  object        \n",
      " 2   Description  522533 non-null  object        \n",
      " 3   Quantity     525461 non-null  int64         \n",
      " 4   InvoiceDate  525461 non-null  datetime64[ns]\n",
      " 5   Price        525461 non-null  float64       \n",
      " 6   Customer ID  417534 non-null  float64       \n",
      " 7   Country      525461 non-null  object        \n",
      "dtypes: datetime64[ns](1), float64(2), int64(1), object(4)\n",
      "memory usage: 32.1+ MB\n"
     ]
    }
   ],
   "source": [
    "df.info()"
   ]
  },
  {
   "cell_type": "markdown",
   "id": "e644c085",
   "metadata": {},
   "source": [
    "## Performing EDA"
   ]
  },
  {
   "cell_type": "code",
   "execution_count": 6,
   "id": "d3ead4c8",
   "metadata": {},
   "outputs": [],
   "source": [
    "#Making new column of Month of sales\n",
    "df[\"Month\"]=df.InvoiceDate.dt.month_name()"
   ]
  },
  {
   "cell_type": "code",
   "execution_count": 7,
   "id": "b8cb7c52",
   "metadata": {},
   "outputs": [],
   "source": [
    "#Making new column of Year of sales\n",
    "df[\"Year\"]=df.InvoiceDate.dt.year"
   ]
  },
  {
   "cell_type": "markdown",
   "id": "5323e690",
   "metadata": {},
   "source": [
    "We saw that some values are negative in price & quantity\n",
    "So coverting it into absolute value"
   ]
  },
  {
   "cell_type": "code",
   "execution_count": 8,
   "id": "7220dfe2",
   "metadata": {},
   "outputs": [],
   "source": [
    "df.Quantity=df.Quantity.abs()\n",
    "df.Price=df.Price.abs()"
   ]
  },
  {
   "cell_type": "markdown",
   "id": "f27e9d09",
   "metadata": {},
   "source": [
    "Here we saw that some values in Price cloumn is 0. So considerind it as a free product or damage product by seller.\n",
    "We can also replace this values by mean of Price cloumn."
   ]
  },
  {
   "cell_type": "code",
   "execution_count": 9,
   "id": "39e5ae22",
   "metadata": {},
   "outputs": [],
   "source": [
    "#Adding New column of Total Amount of product selled\n",
    "df[\"TotalAmount\"]=df.Quantity * df.Price"
   ]
  },
  {
   "cell_type": "code",
   "execution_count": 10,
   "id": "a0ba9253",
   "metadata": {},
   "outputs": [
    {
     "data": {
      "text/html": [
       "<div>\n",
       "<style scoped>\n",
       "    .dataframe tbody tr th:only-of-type {\n",
       "        vertical-align: middle;\n",
       "    }\n",
       "\n",
       "    .dataframe tbody tr th {\n",
       "        vertical-align: top;\n",
       "    }\n",
       "\n",
       "    .dataframe thead th {\n",
       "        text-align: right;\n",
       "    }\n",
       "</style>\n",
       "<table border=\"1\" class=\"dataframe\">\n",
       "  <thead>\n",
       "    <tr style=\"text-align: right;\">\n",
       "      <th></th>\n",
       "      <th>Invoice</th>\n",
       "      <th>StockCode</th>\n",
       "      <th>Description</th>\n",
       "      <th>Quantity</th>\n",
       "      <th>InvoiceDate</th>\n",
       "      <th>Price</th>\n",
       "      <th>Customer ID</th>\n",
       "      <th>Country</th>\n",
       "      <th>Month</th>\n",
       "      <th>Year</th>\n",
       "      <th>TotalAmount</th>\n",
       "    </tr>\n",
       "  </thead>\n",
       "  <tbody>\n",
       "    <tr>\n",
       "      <th>0</th>\n",
       "      <td>489434</td>\n",
       "      <td>85048</td>\n",
       "      <td>15CM CHRISTMAS GLASS BALL 20 LIGHTS</td>\n",
       "      <td>12</td>\n",
       "      <td>2009-12-01 07:45:00</td>\n",
       "      <td>6.95</td>\n",
       "      <td>13085.0</td>\n",
       "      <td>United Kingdom</td>\n",
       "      <td>December</td>\n",
       "      <td>2009</td>\n",
       "      <td>83.4</td>\n",
       "    </tr>\n",
       "    <tr>\n",
       "      <th>1</th>\n",
       "      <td>489434</td>\n",
       "      <td>79323P</td>\n",
       "      <td>PINK CHERRY LIGHTS</td>\n",
       "      <td>12</td>\n",
       "      <td>2009-12-01 07:45:00</td>\n",
       "      <td>6.75</td>\n",
       "      <td>13085.0</td>\n",
       "      <td>United Kingdom</td>\n",
       "      <td>December</td>\n",
       "      <td>2009</td>\n",
       "      <td>81.0</td>\n",
       "    </tr>\n",
       "    <tr>\n",
       "      <th>2</th>\n",
       "      <td>489434</td>\n",
       "      <td>79323W</td>\n",
       "      <td>WHITE CHERRY LIGHTS</td>\n",
       "      <td>12</td>\n",
       "      <td>2009-12-01 07:45:00</td>\n",
       "      <td>6.75</td>\n",
       "      <td>13085.0</td>\n",
       "      <td>United Kingdom</td>\n",
       "      <td>December</td>\n",
       "      <td>2009</td>\n",
       "      <td>81.0</td>\n",
       "    </tr>\n",
       "    <tr>\n",
       "      <th>3</th>\n",
       "      <td>489434</td>\n",
       "      <td>22041</td>\n",
       "      <td>RECORD FRAME 7\" SINGLE SIZE</td>\n",
       "      <td>48</td>\n",
       "      <td>2009-12-01 07:45:00</td>\n",
       "      <td>2.10</td>\n",
       "      <td>13085.0</td>\n",
       "      <td>United Kingdom</td>\n",
       "      <td>December</td>\n",
       "      <td>2009</td>\n",
       "      <td>100.8</td>\n",
       "    </tr>\n",
       "    <tr>\n",
       "      <th>4</th>\n",
       "      <td>489434</td>\n",
       "      <td>21232</td>\n",
       "      <td>STRAWBERRY CERAMIC TRINKET BOX</td>\n",
       "      <td>24</td>\n",
       "      <td>2009-12-01 07:45:00</td>\n",
       "      <td>1.25</td>\n",
       "      <td>13085.0</td>\n",
       "      <td>United Kingdom</td>\n",
       "      <td>December</td>\n",
       "      <td>2009</td>\n",
       "      <td>30.0</td>\n",
       "    </tr>\n",
       "  </tbody>\n",
       "</table>\n",
       "</div>"
      ],
      "text/plain": [
       "  Invoice StockCode                          Description  Quantity  \\\n",
       "0  489434     85048  15CM CHRISTMAS GLASS BALL 20 LIGHTS        12   \n",
       "1  489434    79323P                   PINK CHERRY LIGHTS        12   \n",
       "2  489434    79323W                  WHITE CHERRY LIGHTS        12   \n",
       "3  489434     22041         RECORD FRAME 7\" SINGLE SIZE         48   \n",
       "4  489434     21232       STRAWBERRY CERAMIC TRINKET BOX        24   \n",
       "\n",
       "          InvoiceDate  Price  Customer ID         Country     Month  Year  \\\n",
       "0 2009-12-01 07:45:00   6.95      13085.0  United Kingdom  December  2009   \n",
       "1 2009-12-01 07:45:00   6.75      13085.0  United Kingdom  December  2009   \n",
       "2 2009-12-01 07:45:00   6.75      13085.0  United Kingdom  December  2009   \n",
       "3 2009-12-01 07:45:00   2.10      13085.0  United Kingdom  December  2009   \n",
       "4 2009-12-01 07:45:00   1.25      13085.0  United Kingdom  December  2009   \n",
       "\n",
       "   TotalAmount  \n",
       "0         83.4  \n",
       "1         81.0  \n",
       "2         81.0  \n",
       "3        100.8  \n",
       "4         30.0  "
      ]
     },
     "execution_count": 10,
     "metadata": {},
     "output_type": "execute_result"
    }
   ],
   "source": [
    "df.head()"
   ]
  },
  {
   "cell_type": "code",
   "execution_count": 11,
   "id": "8bcbed96",
   "metadata": {},
   "outputs": [],
   "source": [
    "#Creating new Dataframe so we can work on that without changing the orignal one\n",
    "data=df[[\"Customer ID\",\"StockCode\",\"Quantity\",\"Price\",\"TotalAmount\",\"Month\",\"Year\",\"Country\"]]"
   ]
  },
  {
   "cell_type": "code",
   "execution_count": 12,
   "id": "8900baf1",
   "metadata": {},
   "outputs": [
    {
     "data": {
      "text/html": [
       "<div>\n",
       "<style scoped>\n",
       "    .dataframe tbody tr th:only-of-type {\n",
       "        vertical-align: middle;\n",
       "    }\n",
       "\n",
       "    .dataframe tbody tr th {\n",
       "        vertical-align: top;\n",
       "    }\n",
       "\n",
       "    .dataframe thead th {\n",
       "        text-align: right;\n",
       "    }\n",
       "</style>\n",
       "<table border=\"1\" class=\"dataframe\">\n",
       "  <thead>\n",
       "    <tr style=\"text-align: right;\">\n",
       "      <th></th>\n",
       "      <th>Customer ID</th>\n",
       "      <th>StockCode</th>\n",
       "      <th>Quantity</th>\n",
       "      <th>Price</th>\n",
       "      <th>TotalAmount</th>\n",
       "      <th>Month</th>\n",
       "      <th>Year</th>\n",
       "      <th>Country</th>\n",
       "    </tr>\n",
       "  </thead>\n",
       "  <tbody>\n",
       "    <tr>\n",
       "      <th>0</th>\n",
       "      <td>13085.0</td>\n",
       "      <td>85048</td>\n",
       "      <td>12</td>\n",
       "      <td>6.95</td>\n",
       "      <td>83.4</td>\n",
       "      <td>December</td>\n",
       "      <td>2009</td>\n",
       "      <td>United Kingdom</td>\n",
       "    </tr>\n",
       "    <tr>\n",
       "      <th>1</th>\n",
       "      <td>13085.0</td>\n",
       "      <td>79323P</td>\n",
       "      <td>12</td>\n",
       "      <td>6.75</td>\n",
       "      <td>81.0</td>\n",
       "      <td>December</td>\n",
       "      <td>2009</td>\n",
       "      <td>United Kingdom</td>\n",
       "    </tr>\n",
       "    <tr>\n",
       "      <th>2</th>\n",
       "      <td>13085.0</td>\n",
       "      <td>79323W</td>\n",
       "      <td>12</td>\n",
       "      <td>6.75</td>\n",
       "      <td>81.0</td>\n",
       "      <td>December</td>\n",
       "      <td>2009</td>\n",
       "      <td>United Kingdom</td>\n",
       "    </tr>\n",
       "    <tr>\n",
       "      <th>3</th>\n",
       "      <td>13085.0</td>\n",
       "      <td>22041</td>\n",
       "      <td>48</td>\n",
       "      <td>2.10</td>\n",
       "      <td>100.8</td>\n",
       "      <td>December</td>\n",
       "      <td>2009</td>\n",
       "      <td>United Kingdom</td>\n",
       "    </tr>\n",
       "    <tr>\n",
       "      <th>4</th>\n",
       "      <td>13085.0</td>\n",
       "      <td>21232</td>\n",
       "      <td>24</td>\n",
       "      <td>1.25</td>\n",
       "      <td>30.0</td>\n",
       "      <td>December</td>\n",
       "      <td>2009</td>\n",
       "      <td>United Kingdom</td>\n",
       "    </tr>\n",
       "  </tbody>\n",
       "</table>\n",
       "</div>"
      ],
      "text/plain": [
       "   Customer ID StockCode  Quantity  Price  TotalAmount     Month  Year  \\\n",
       "0      13085.0     85048        12   6.95         83.4  December  2009   \n",
       "1      13085.0    79323P        12   6.75         81.0  December  2009   \n",
       "2      13085.0    79323W        12   6.75         81.0  December  2009   \n",
       "3      13085.0     22041        48   2.10        100.8  December  2009   \n",
       "4      13085.0     21232        24   1.25         30.0  December  2009   \n",
       "\n",
       "          Country  \n",
       "0  United Kingdom  \n",
       "1  United Kingdom  \n",
       "2  United Kingdom  \n",
       "3  United Kingdom  \n",
       "4  United Kingdom  "
      ]
     },
     "execution_count": 12,
     "metadata": {},
     "output_type": "execute_result"
    }
   ],
   "source": [
    "data.head()"
   ]
  },
  {
   "cell_type": "code",
   "execution_count": 13,
   "id": "5bfb7a59",
   "metadata": {},
   "outputs": [
    {
     "name": "stdout",
     "output_type": "stream",
     "text": [
      "<class 'pandas.core.frame.DataFrame'>\n",
      "RangeIndex: 525461 entries, 0 to 525460\n",
      "Data columns (total 8 columns):\n",
      " #   Column       Non-Null Count   Dtype  \n",
      "---  ------       --------------   -----  \n",
      " 0   Customer ID  417534 non-null  float64\n",
      " 1   StockCode    525461 non-null  object \n",
      " 2   Quantity     525461 non-null  int64  \n",
      " 3   Price        525461 non-null  float64\n",
      " 4   TotalAmount  525461 non-null  float64\n",
      " 5   Month        525461 non-null  object \n",
      " 6   Year         525461 non-null  int64  \n",
      " 7   Country      525461 non-null  object \n",
      "dtypes: float64(3), int64(2), object(3)\n",
      "memory usage: 32.1+ MB\n"
     ]
    }
   ],
   "source": [
    "data.info()"
   ]
  },
  {
   "cell_type": "code",
   "execution_count": 14,
   "id": "f97e3b8a",
   "metadata": {
    "scrolled": true
   },
   "outputs": [
    {
     "data": {
      "text/plain": [
       "Customer ID    107927\n",
       "StockCode           0\n",
       "Quantity            0\n",
       "Price               0\n",
       "TotalAmount         0\n",
       "Month               0\n",
       "Year                0\n",
       "Country             0\n",
       "dtype: int64"
      ]
     },
     "execution_count": 14,
     "metadata": {},
     "output_type": "execute_result"
    }
   ],
   "source": [
    "data.isnull().sum()"
   ]
  },
  {
   "cell_type": "markdown",
   "id": "40f72099",
   "metadata": {},
   "source": [
    "We can see that their is null values in Customer ID column."
   ]
  },
  {
   "cell_type": "markdown",
   "id": "10cc15ee",
   "metadata": {},
   "source": [
    "### Filling missing values in Customer ID"
   ]
  },
  {
   "cell_type": "code",
   "execution_count": 19,
   "id": "3bbbe90f",
   "metadata": {},
   "outputs": [
    {
     "data": {
      "text/plain": [
       "0.20539488182757618"
      ]
     },
     "execution_count": 19,
     "metadata": {},
     "output_type": "execute_result"
    }
   ],
   "source": [
    "data[\"Customer ID\"].isna().sum()/data.shape[0]"
   ]
  },
  {
   "cell_type": "markdown",
   "id": "e4100034",
   "metadata": {},
   "source": [
    "Their is 20.53% missingt values in Customer ID."
   ]
  },
  {
   "cell_type": "code",
   "execution_count": 20,
   "id": "ee55ab9a",
   "metadata": {},
   "outputs": [
    {
     "name": "stderr",
     "output_type": "stream",
     "text": [
      "C:\\Users\\samee\\AppData\\Local\\Temp\\ipykernel_19644\\1786268312.py:1: SettingWithCopyWarning: \n",
      "A value is trying to be set on a copy of a slice from a DataFrame\n",
      "\n",
      "See the caveats in the documentation: https://pandas.pydata.org/pandas-docs/stable/user_guide/indexing.html#returning-a-view-versus-a-copy\n",
      "  data[\"Customer ID\"].fillna(method='pad',inplace=True)\n"
     ]
    }
   ],
   "source": [
    "#Filling missing value in Customer field with just above value of customer ID\n",
    "data[\"Customer ID\"].fillna(method='pad',inplace=True)"
   ]
  },
  {
   "cell_type": "code",
   "execution_count": 21,
   "id": "54c61665",
   "metadata": {},
   "outputs": [
    {
     "data": {
      "text/plain": [
       "Customer ID    0\n",
       "StockCode      0\n",
       "Quantity       0\n",
       "Price          0\n",
       "TotalAmount    0\n",
       "Month          0\n",
       "Year           0\n",
       "Country        0\n",
       "dtype: int64"
      ]
     },
     "execution_count": 21,
     "metadata": {},
     "output_type": "execute_result"
    }
   ],
   "source": [
    "data.isnull().sum()"
   ]
  },
  {
   "cell_type": "markdown",
   "id": "65c16aaf",
   "metadata": {},
   "source": [
    "Now we can see that their is no missing values in your dataset."
   ]
  },
  {
   "cell_type": "markdown",
   "id": "ce8f0740",
   "metadata": {},
   "source": [
    "### Country Vs Sale Amount"
   ]
  },
  {
   "cell_type": "code",
   "execution_count": 22,
   "id": "ff6dffc1",
   "metadata": {},
   "outputs": [
    {
     "data": {
      "text/plain": [
       "United Kingdom          485852\n",
       "EIRE                      9670\n",
       "Germany                   8129\n",
       "France                    5772\n",
       "Netherlands               2769\n",
       "Spain                     1278\n",
       "Switzerland               1187\n",
       "Portugal                  1101\n",
       "Belgium                   1054\n",
       "Channel Islands            906\n",
       "Sweden                     902\n",
       "Italy                      731\n",
       "Australia                  654\n",
       "Cyprus                     554\n",
       "Austria                    537\n",
       "Greece                     517\n",
       "United Arab Emirates       432\n",
       "Denmark                    428\n",
       "Norway                     369\n",
       "Finland                    354\n",
       "Unspecified                310\n",
       "USA                        244\n",
       "Japan                      224\n",
       "Poland                     194\n",
       "Malta                      172\n",
       "Lithuania                  154\n",
       "Singapore                  117\n",
       "RSA                        111\n",
       "Bahrain                    107\n",
       "Canada                      77\n",
       "Hong Kong                   76\n",
       "Thailand                    76\n",
       "Israel                      74\n",
       "Iceland                     71\n",
       "Korea                       63\n",
       "Brazil                      62\n",
       "West Indies                 54\n",
       "Bermuda                     34\n",
       "Nigeria                     32\n",
       "Lebanon                     13\n",
       "Name: Country, dtype: int64"
      ]
     },
     "execution_count": 22,
     "metadata": {},
     "output_type": "execute_result"
    }
   ],
   "source": [
    "data.Country.value_counts()"
   ]
  },
  {
   "cell_type": "markdown",
   "id": "e65b293c",
   "metadata": {},
   "source": [
    "#### From this we can conclude:-\n",
    " - This Kirana Store sells product accross many countries(almost 40).\n",
    " - Most of the product is selled at United Kingdom\n",
    " - Minimum product is selled to Leabanon"
   ]
  },
  {
   "cell_type": "code",
   "execution_count": 50,
   "id": "51a3e68e",
   "metadata": {
    "scrolled": false
   },
   "outputs": [
    {
     "data": {
      "text/plain": [
       "Country\n",
       "United Kingdom          9497480.993\n",
       "EIRE                     409712.910\n",
       "Netherlands              273708.590\n",
       "Germany                  208500.291\n",
       "France                   163653.080\n",
       "Spain                     58117.940\n",
       "Sweden                    55837.270\n",
       "Denmark                   54840.750\n",
       "Switzerland               44499.370\n",
       "Norway                    43808.790\n",
       "Australia                 32841.800\n",
       "Channel Islands           27725.320\n",
       "Belgium                   26450.630\n",
       "Portugal                  24769.320\n",
       "Italy                     16345.520\n",
       "Greece                    14386.370\n",
       "Austria                   13805.380\n",
       "Hong Kong                 12482.780\n",
       "Cyprus                    11563.050\n",
       "Japan                     11008.080\n",
       "United Arab Emirates      10344.330\n",
       "Malta                      8060.250\n",
       "Finland                    7571.210\n",
       "Unspecified                7434.910\n",
       "RSA                        5237.300\n",
       "USA                        5017.320\n",
       "Lithuania                  4892.680\n",
       "Singapore                  4037.770\n",
       "Poland                     3820.650\n",
       "Israel                     3199.400\n",
       "Thailand                   3070.540\n",
       "Bahrain                    2398.150\n",
       "Iceland                    1323.320\n",
       "Korea                      1287.200\n",
       "Bermuda                    1253.140\n",
       "Canada                     1216.660\n",
       "West Indies                 536.410\n",
       "Nigeria                     287.440\n",
       "Brazil                      268.270\n",
       "Lebanon                     251.370\n",
       "Name: TotalAmount, dtype: float64"
      ]
     },
     "execution_count": 50,
     "metadata": {},
     "output_type": "execute_result"
    }
   ],
   "source": [
    "country_sales=data.groupby('Country')['TotalAmount'].sum().sort_values(ascending=False)\n",
    "country_sales"
   ]
  },
  {
   "cell_type": "code",
   "execution_count": 56,
   "id": "6368f855",
   "metadata": {},
   "outputs": [
    {
     "data": {
      "text/plain": [
       "<AxesSubplot:xlabel='Country'>"
      ]
     },
     "execution_count": 56,
     "metadata": {},
     "output_type": "execute_result"
    },
    {
     "data": {
      "image/png": "[encoded data removed]",
      "text/plain": [
       "<Figure size 1080x720 with 1 Axes>"
      ]
     },
     "metadata": {
      "needs_background": "light"
     },
     "output_type": "display_data"
    }
   ],
   "source": [
    "#Plotting Graph and removing UK as we know it has Highest Sales\n",
    "country_sales.iloc[1:].plot(kind = 'bar',figsize=(15, 10))"
   ]
  },
  {
   "cell_type": "markdown",
   "id": "c3f1de6a",
   "metadata": {},
   "source": [
    "#### From above graph we can conclude that:-\n",
    " - Highest Sale is in United Kingdom\n",
    " - Lowest Sale is in Lebanon\n",
    " - Top countries with highest sales are United Kingdom, EIRA, Netherlands, Germany & France\n",
    " - Countries with Least sales are West Indies, Bermuda, Nigeria & Lebanon"
   ]
  },
  {
   "cell_type": "markdown",
   "id": "a6a75b39",
   "metadata": {},
   "source": [
    "## Country Vs Number of Customer"
   ]
  },
  {
   "cell_type": "code",
   "execution_count": 70,
   "id": "e109375e",
   "metadata": {},
   "outputs": [],
   "source": [
    "country_id=data.groupby('Country')['Customer ID'].size().sort_values(ascending=False)\n"
   ]
  },
  {
   "cell_type": "code",
   "execution_count": 71,
   "id": "1145d79c",
   "metadata": {},
   "outputs": [
    {
     "data": {
      "text/plain": [
       "Country\n",
       "United Kingdom          485852\n",
       "EIRE                      9670\n",
       "Germany                   8129\n",
       "France                    5772\n",
       "Netherlands               2769\n",
       "Spain                     1278\n",
       "Switzerland               1187\n",
       "Portugal                  1101\n",
       "Belgium                   1054\n",
       "Channel Islands            906\n",
       "Sweden                     902\n",
       "Italy                      731\n",
       "Australia                  654\n",
       "Cyprus                     554\n",
       "Austria                    537\n",
       "Greece                     517\n",
       "United Arab Emirates       432\n",
       "Denmark                    428\n",
       "Norway                     369\n",
       "Finland                    354\n",
       "Unspecified                310\n",
       "USA                        244\n",
       "Japan                      224\n",
       "Poland                     194\n",
       "Malta                      172\n",
       "Lithuania                  154\n",
       "Singapore                  117\n",
       "RSA                        111\n",
       "Bahrain                    107\n",
       "Canada                      77\n",
       "Thailand                    76\n",
       "Hong Kong                   76\n",
       "Israel                      74\n",
       "Iceland                     71\n",
       "Korea                       63\n",
       "Brazil                      62\n",
       "West Indies                 54\n",
       "Bermuda                     34\n",
       "Nigeria                     32\n",
       "Lebanon                     13\n",
       "Name: Customer ID, dtype: int64"
      ]
     },
     "execution_count": 71,
     "metadata": {},
     "output_type": "execute_result"
    }
   ],
   "source": [
    "country_id"
   ]
  },
  {
   "cell_type": "code",
   "execution_count": 72,
   "id": "4b90121d",
   "metadata": {},
   "outputs": [
    {
     "data": {
      "text/plain": [
       "<AxesSubplot:xlabel='Country'>"
      ]
     },
     "execution_count": 72,
     "metadata": {},
     "output_type": "execute_result"
    },
    {
     "data": {
      "image/png": "[encoded data removed]",
      "text/plain": [
       "<Figure size 1080x720 with 1 Axes>"
      ]
     },
     "metadata": {
      "needs_background": "light"
     },
     "output_type": "display_data"
    }
   ],
   "source": [
    "country_id.iloc[1:].plot(kind = 'bar',figsize=(15, 10))"
   ]
  },
  {
   "cell_type": "markdown",
   "id": "5930de64",
   "metadata": {},
   "source": [
    "#### From above we see that:-\n",
    " - United Kingdom has highest number of customers followed by EIRA, Germany & France\n",
    " - Lebanon has least number of customers"
   ]
  },
  {
   "cell_type": "markdown",
   "id": "9a63986f",
   "metadata": {},
   "source": [
    "### Customer ID vs Sale Amount"
   ]
  },
  {
   "cell_type": "code",
   "execution_count": 26,
   "id": "27c81eb5",
   "metadata": {},
   "outputs": [
    {
     "data": {
      "text/plain": [
       "4383"
      ]
     },
     "execution_count": 26,
     "metadata": {},
     "output_type": "execute_result"
    }
   ],
   "source": [
    "#Checking Unique customers\n",
    "len(data['Customer ID'].unique())"
   ]
  },
  {
   "cell_type": "code",
   "execution_count": 27,
   "id": "57df0114",
   "metadata": {},
   "outputs": [
    {
     "data": {
      "text/plain": [
       "Customer ID\n",
       "18102.0    409331.93\n",
       "14646.0    256289.61\n",
       "14156.0    224777.65\n",
       "14911.0    180442.16\n",
       "13694.0    140328.81\n",
       "             ...    \n",
       "14914.0         5.85\n",
       "16580.0         5.00\n",
       "13788.0         3.75\n",
       "16995.0         1.25\n",
       "14827.0         0.00\n",
       "Name: TotalAmount, Length: 4383, dtype: float64"
      ]
     },
     "execution_count": 27,
     "metadata": {},
     "output_type": "execute_result"
    }
   ],
   "source": [
    "customer_totalamount=data.groupby(\"Customer ID\")[\"TotalAmount\"].sum().sort_values(ascending=False)\n",
    "customer_totalamount"
   ]
  },
  {
   "cell_type": "code",
   "execution_count": 28,
   "id": "36f35e61",
   "metadata": {
    "scrolled": false
   },
   "outputs": [
    {
     "data": {
      "text/plain": [
       "<AxesSubplot:xlabel='Customer ID'>"
      ]
     },
     "execution_count": 28,
     "metadata": {},
     "output_type": "execute_result"
    },
    {
     "data": {
      "image/png": "[encoded data removed]",
      "text/plain": [
       "<Figure size 1080x720 with 1 Axes>"
      ]
     },
     "metadata": {
      "needs_background": "light"
     },
     "output_type": "display_data"
    }
   ],
   "source": [
    "customer_totalamount.iloc[:10].plot(kind = 'bar',figsize=(15, 10))"
   ]
  },
  {
   "cell_type": "markdown",
   "id": "b0a9d921",
   "metadata": {},
   "source": [
    "#### Here is a graph of top 10 customer with highest purchases\n",
    " - Customer with ID 18102 purchased product of maximum amount alone."
   ]
  },
  {
   "cell_type": "code",
   "execution_count": 29,
   "id": "7e3a30e8",
   "metadata": {
    "scrolled": false
   },
   "outputs": [
    {
     "data": {
      "text/plain": [
       "<AxesSubplot:xlabel='Customer ID'>"
      ]
     },
     "execution_count": 29,
     "metadata": {},
     "output_type": "execute_result"
    },
    {
     "data": {
      "image/png": "[encoded data removed]",
      "text/plain": [
       "<Figure size 1080x720 with 1 Axes>"
      ]
     },
     "metadata": {
      "needs_background": "light"
     },
     "output_type": "display_data"
    }
   ],
   "source": [
    "customer_totalamount.iloc[-10:].plot(kind = 'bar',figsize=(15, 10))"
   ]
  },
  {
   "cell_type": "markdown",
   "id": "0be1b44b",
   "metadata": {},
   "source": [
    "#### Here is a graph of top 10 customer with highest purchases\n",
    " - Customer with ID 14827 had Zero purchased."
   ]
  },
  {
   "cell_type": "markdown",
   "id": "33014ca5",
   "metadata": {},
   "source": [
    "### Month vs Customer"
   ]
  },
  {
   "cell_type": "code",
   "execution_count": 30,
   "id": "9e573fa4",
   "metadata": {},
   "outputs": [
    {
     "data": {
      "text/plain": [
       "Month\n",
       "November     78015\n",
       "December     67751\n",
       "October      59098\n",
       "September    42091\n",
       "March        41511\n",
       "June         39983\n",
       "May          35323\n",
       "April        34057\n",
       "July         33383\n",
       "August       33306\n",
       "January      31555\n",
       "February     29388\n",
       "Name: Customer ID, dtype: int64"
      ]
     },
     "execution_count": 30,
     "metadata": {},
     "output_type": "execute_result"
    }
   ],
   "source": [
    "cos_month=data.groupby(\"Month\")[\"Customer ID\"].count().sort_values(ascending=False)\n",
    "cos_month"
   ]
  },
  {
   "cell_type": "code",
   "execution_count": 31,
   "id": "f4812f24",
   "metadata": {
    "scrolled": false
   },
   "outputs": [
    {
     "data": {
      "text/plain": [
       "<AxesSubplot:xlabel='Month'>"
      ]
     },
     "execution_count": 31,
     "metadata": {},
     "output_type": "execute_result"
    },
    {
     "data": {
      "image/png": "[encoded data removed]",
      "text/plain": [
       "<Figure size 1080x720 with 1 Axes>"
      ]
     },
     "metadata": {
      "needs_background": "light"
     },
     "output_type": "display_data"
    }
   ],
   "source": [
    "#Plotting Graph\n",
    "cos_month.plot(kind = 'bar',figsize=(15, 10))"
   ]
  },
  {
   "cell_type": "markdown",
   "id": "f052c29a",
   "metadata": {},
   "source": [
    "#### We can see that:-\n",
    " - At month of November highest number of customers had purchased products followed by December\n",
    " - Month of february had witnessed lowest number of customer "
   ]
  },
  {
   "cell_type": "markdown",
   "id": "d5d85a6a",
   "metadata": {},
   "source": [
    "### Sales, Month wise"
   ]
  },
  {
   "cell_type": "code",
   "execution_count": 32,
   "id": "fb93ab9a",
   "metadata": {
    "scrolled": true
   },
   "outputs": [
    {
     "data": {
      "text/plain": [
       "851524.4099999999"
      ]
     },
     "execution_count": 32,
     "metadata": {},
     "output_type": "execute_result"
    }
   ],
   "source": [
    "#Year 2009 has only one month data of december.\n",
    "data.TotalAmount[data[\"Year\"]==2009].sum()"
   ]
  },
  {
   "cell_type": "markdown",
   "id": "721300fa",
   "metadata": {},
   "source": [
    "#### Total sales in 2009 is 851524.4099"
   ]
  },
  {
   "cell_type": "code",
   "execution_count": 33,
   "id": "d6bf5d1a",
   "metadata": {
    "scrolled": false
   },
   "outputs": [
    {
     "data": {
      "text/plain": [
       "10221522.144000001"
      ]
     },
     "execution_count": 33,
     "metadata": {},
     "output_type": "execute_result"
    }
   ],
   "source": [
    "data.TotalAmount[data[\"Year\"]==2010].sum()"
   ]
  },
  {
   "cell_type": "markdown",
   "id": "ff446381",
   "metadata": {},
   "source": [
    "#### Total sales in 2010 is 10221522.144"
   ]
  },
  {
   "cell_type": "code",
   "execution_count": 34,
   "id": "3a9c89a6",
   "metadata": {},
   "outputs": [],
   "source": [
    "sales_2010=data[data['Year'] == 2010]\n"
   ]
  },
  {
   "cell_type": "code",
   "execution_count": 49,
   "id": "6535c2e7",
   "metadata": {
    "scrolled": false
   },
   "outputs": [
    {
     "data": {
      "image/png": "[encoded data removed]",
      "text/plain": [
       "<Figure size 720x720 with 1 Axes>"
      ]
     },
     "metadata": {
      "needs_background": "light"
     },
     "output_type": "display_data"
    }
   ],
   "source": [
    "plt.figure(figsize=(10,10))\n",
    "plt.bar(sales_2010['Month'], sales_2010['TotalAmount'])\n",
    "plt.xlabel('Month')\n",
    "plt.ylabel('Total Sales')\n",
    "plt.title('Total Sales for each Month in 2010')\n",
    "plt.show()"
   ]
  },
  {
   "cell_type": "markdown",
   "id": "39112ec6",
   "metadata": {},
   "source": [
    "#### From graph it is clear that in year 2010:-\n",
    " - April has highest sale followed by June & October\n",
    " - May has lowest sale"
   ]
  },
  {
   "cell_type": "markdown",
   "id": "d3f2fbde",
   "metadata": {},
   "source": [
    "### Product vs Quantity Purchased"
   ]
  },
  {
   "cell_type": "code",
   "execution_count": 36,
   "id": "9b24085b",
   "metadata": {
    "scrolled": true
   },
   "outputs": [
    {
     "data": {
      "text/plain": [
       "4632"
      ]
     },
     "execution_count": 36,
     "metadata": {},
     "output_type": "execute_result"
    }
   ],
   "source": [
    "# Checking total number of products\n",
    "len(data.StockCode.unique())"
   ]
  },
  {
   "cell_type": "markdown",
   "id": "3eaad991",
   "metadata": {},
   "source": [
    "#### We can see that total products available in shop is 4632"
   ]
  },
  {
   "cell_type": "code",
   "execution_count": 37,
   "id": "15d6de75",
   "metadata": {},
   "outputs": [
    {
     "data": {
      "text/plain": [
       "StockCode\n",
       "47285B       1\n",
       "21021        1\n",
       "21020        1\n",
       "21019        1\n",
       "21487        1\n",
       "          ... \n",
       "21232     1843\n",
       "21212     1933\n",
       "85099B    2057\n",
       "22423     2221\n",
       "85123A    3516\n",
       "Name: Quantity, Length: 4632, dtype: int64"
      ]
     },
     "execution_count": 37,
     "metadata": {},
     "output_type": "execute_result"
    }
   ],
   "source": [
    "stock_country=data.groupby(\"StockCode\")[\"Quantity\"].count().sort_values()\n",
    "stock_country"
   ]
  },
  {
   "cell_type": "code",
   "execution_count": 38,
   "id": "53eef6e7",
   "metadata": {
    "scrolled": true
   },
   "outputs": [
    {
     "data": {
      "text/plain": [
       "1"
      ]
     },
     "execution_count": 38,
     "metadata": {},
     "output_type": "execute_result"
    }
   ],
   "source": [
    "stock_country.iloc[434]"
   ]
  },
  {
   "cell_type": "code",
   "execution_count": 39,
   "id": "3a40b583",
   "metadata": {},
   "outputs": [
    {
     "data": {
      "text/plain": [
       "2"
      ]
     },
     "execution_count": 39,
     "metadata": {},
     "output_type": "execute_result"
    }
   ],
   "source": [
    "stock_country.iloc[435]"
   ]
  },
  {
   "cell_type": "markdown",
   "id": "e43615c9",
   "metadata": {},
   "source": [
    "#### Products till index number 434 is shipped only in one country."
   ]
  },
  {
   "cell_type": "code",
   "execution_count": 75,
   "id": "4fcf9a84",
   "metadata": {},
   "outputs": [
    {
     "data": {
      "text/plain": [
       "StockCode\n",
       "20914     1276\n",
       "21754     1386\n",
       "84991     1400\n",
       "84879     1458\n",
       "20725     1620\n",
       "21232     1843\n",
       "21212     1933\n",
       "85099B    2057\n",
       "22423     2221\n",
       "85123A    3516\n",
       "Name: Quantity, dtype: int64"
      ]
     },
     "execution_count": 75,
     "metadata": {},
     "output_type": "execute_result"
    }
   ],
   "source": [
    "stock_country.iloc[-10:]"
   ]
  },
  {
   "cell_type": "code",
   "execution_count": 78,
   "id": "e102300d",
   "metadata": {},
   "outputs": [
    {
     "data": {
      "text/plain": [
       "<AxesSubplot:xlabel='StockCode'>"
      ]
     },
     "execution_count": 78,
     "metadata": {},
     "output_type": "execute_result"
    },
    {
     "data": {
      "image/png": "[encoded data removed]",
      "text/plain": [
       "<Figure size 720x720 with 1 Axes>"
      ]
     },
     "metadata": {
      "needs_background": "light"
     },
     "output_type": "display_data"
    }
   ],
   "source": [
    "# Graph of top 10 most famous product\n",
    "stock_country.iloc[-10:].plot(kind='bar',figsize=(10,10))"
   ]
  },
  {
   "cell_type": "markdown",
   "id": "f2016085",
   "metadata": {},
   "source": [
    "#### We can conclude that:-\n",
    " - Product with Stock code 85123A had shipped in most countries"
   ]
  },
  {
   "cell_type": "markdown",
   "id": "e3bb66ba",
   "metadata": {},
   "source": [
    "### Relation between seller and customer"
   ]
  },
  {
   "cell_type": "code",
   "execution_count": 81,
   "id": "770f3f6d",
   "metadata": {
    "scrolled": true
   },
   "outputs": [
    {
     "data": {
      "text/plain": [
       "13452.0       1\n",
       "13378.0       1\n",
       "14845.0       1\n",
       "13222.0       1\n",
       "14613.0       1\n",
       "           ... \n",
       "12748.0    3146\n",
       "14156.0    3304\n",
       "14606.0    5020\n",
       "17841.0    6148\n",
       "14911.0    6801\n",
       "Name: Customer ID, Length: 4383, dtype: int64"
      ]
     },
     "execution_count": 81,
     "metadata": {},
     "output_type": "execute_result"
    }
   ],
   "source": [
    "seller_customer=data[\"Customer ID\"].value_counts().sort_values()\n",
    "seller_customer"
   ]
  },
  {
   "cell_type": "code",
   "execution_count": 80,
   "id": "9f868668",
   "metadata": {
    "scrolled": false
   },
   "outputs": [
    {
     "data": {
      "text/plain": [
       "<AxesSubplot:>"
      ]
     },
     "execution_count": 80,
     "metadata": {},
     "output_type": "execute_result"
    },
    {
     "data": {
      "image/png": "[encoded data removed]",
      "text/plain": [
       "<Figure size 720x720 with 1 Axes>"
      ]
     },
     "metadata": {
      "needs_background": "light"
     },
     "output_type": "display_data"
    }
   ],
   "source": [
    "#Graph of top 10 customer who visited the shop most\n",
    "seller_customer.iloc[-10:].plot(kind='bar',figsize=(10,10))"
   ]
  },
  {
   "cell_type": "markdown",
   "id": "6b72110d",
   "metadata": {},
   "source": [
    "#### This shows that:-\n",
    " - Customer with ID 14911 had visited the shop most among others.\n",
    " - Also there are some customer who had visited shop only onces."
   ]
  },
  {
   "cell_type": "markdown",
   "id": "01008b59",
   "metadata": {},
   "source": [
    "### Product vs Total Sales"
   ]
  },
  {
   "cell_type": "code",
   "execution_count": 42,
   "id": "396d0806",
   "metadata": {},
   "outputs": [
    {
     "data": {
      "text/plain": [
       "StockCode\n",
       "37445D         0.00\n",
       "90109          0.00\n",
       "90110          0.00\n",
       "90117          0.00\n",
       "90172          0.00\n",
       "            ...    \n",
       "DOT       116415.43\n",
       "B         136552.02\n",
       "85123A    161356.22\n",
       "22423     177105.56\n",
       "M         540081.29\n",
       "Name: TotalAmount, Length: 4632, dtype: float64"
      ]
     },
     "execution_count": 42,
     "metadata": {},
     "output_type": "execute_result"
    }
   ],
   "source": [
    "stock_sales=data.groupby(\"StockCode\")[\"TotalAmount\"].sum().sort_values()\n",
    "stock_sales"
   ]
  },
  {
   "cell_type": "code",
   "execution_count": 43,
   "id": "19a9b7a0",
   "metadata": {
    "scrolled": false
   },
   "outputs": [
    {
     "data": {
      "text/plain": [
       "<AxesSubplot:xlabel='StockCode'>"
      ]
     },
     "execution_count": 43,
     "metadata": {},
     "output_type": "execute_result"
    },
    {
     "data": {
      "image/png": "[encoded data removed]",
      "text/plain": [
       "<Figure size 1080x720 with 1 Axes>"
      ]
     },
     "metadata": {
      "needs_background": "light"
     },
     "output_type": "display_data"
    }
   ],
   "source": [
    "#Graph of top 10 product which have highest sales\n",
    "stock_sales.iloc[-10:].plot(kind='bar',figsize=(15,10))"
   ]
  },
  {
   "cell_type": "markdown",
   "id": "14de01db",
   "metadata": {},
   "source": [
    "#### From graph we can conclude that:-\n",
    " - Product with stock code M has highest amount of scale among others followed by stock code 22423, 85123A.\n",
    " - Some products had zero sale.\n",
    "\n"
   ]
  },
  {
   "cell_type": "markdown",
   "id": "9ea6317a",
   "metadata": {},
   "source": [
    "### Product demand Vs Month"
   ]
  },
  {
   "cell_type": "code",
   "execution_count": 44,
   "id": "a29c32ae",
   "metadata": {
    "scrolled": true
   },
   "outputs": [
    {
     "data": {
      "text/plain": [
       "StockCode     Month   \n",
       "10002         December    40\n",
       "              November    39\n",
       "              June        38\n",
       "              May         38\n",
       "              July        26\n",
       "                          ..\n",
       "gift_0001_90  August       1\n",
       "              January      1\n",
       "m             February     2\n",
       "              April        1\n",
       "              June         1\n",
       "Name: Month, Length: 34936, dtype: int64"
      ]
     },
     "execution_count": 44,
     "metadata": {},
     "output_type": "execute_result"
    }
   ],
   "source": [
    "demand=data.groupby(\"StockCode\")[\"Month\"].value_counts()\n",
    "demand"
   ]
  },
  {
   "cell_type": "code",
   "execution_count": 83,
   "id": "dd28b53e",
   "metadata": {},
   "outputs": [],
   "source": [
    "#Coverting list into series and then into data frame\n",
    "demand_series = pd.Series(demand)\n",
    "df_demand=demand_series.to_frame(name=\"Count\")"
   ]
  },
  {
   "cell_type": "code",
   "execution_count": 46,
   "id": "f10f0e8c",
   "metadata": {
    "scrolled": false
   },
   "outputs": [
    {
     "data": {
      "text/html": [
       "<div>\n",
       "<style scoped>\n",
       "    .dataframe tbody tr th:only-of-type {\n",
       "        vertical-align: middle;\n",
       "    }\n",
       "\n",
       "    .dataframe tbody tr th {\n",
       "        vertical-align: top;\n",
       "    }\n",
       "\n",
       "    .dataframe thead th {\n",
       "        text-align: right;\n",
       "    }\n",
       "</style>\n",
       "<table border=\"1\" class=\"dataframe\">\n",
       "  <thead>\n",
       "    <tr style=\"text-align: right;\">\n",
       "      <th></th>\n",
       "      <th></th>\n",
       "      <th>Count</th>\n",
       "    </tr>\n",
       "    <tr>\n",
       "      <th>StockCode</th>\n",
       "      <th>Month</th>\n",
       "      <th></th>\n",
       "    </tr>\n",
       "  </thead>\n",
       "  <tbody>\n",
       "    <tr>\n",
       "      <th rowspan=\"5\" valign=\"top\">10002</th>\n",
       "      <th>December</th>\n",
       "      <td>40</td>\n",
       "    </tr>\n",
       "    <tr>\n",
       "      <th>November</th>\n",
       "      <td>39</td>\n",
       "    </tr>\n",
       "    <tr>\n",
       "      <th>June</th>\n",
       "      <td>38</td>\n",
       "    </tr>\n",
       "    <tr>\n",
       "      <th>May</th>\n",
       "      <td>38</td>\n",
       "    </tr>\n",
       "    <tr>\n",
       "      <th>July</th>\n",
       "      <td>26</td>\n",
       "    </tr>\n",
       "    <tr>\n",
       "      <th>...</th>\n",
       "      <th>...</th>\n",
       "      <td>...</td>\n",
       "    </tr>\n",
       "    <tr>\n",
       "      <th rowspan=\"2\" valign=\"top\">gift_0001_90</th>\n",
       "      <th>August</th>\n",
       "      <td>1</td>\n",
       "    </tr>\n",
       "    <tr>\n",
       "      <th>January</th>\n",
       "      <td>1</td>\n",
       "    </tr>\n",
       "    <tr>\n",
       "      <th rowspan=\"3\" valign=\"top\">m</th>\n",
       "      <th>February</th>\n",
       "      <td>2</td>\n",
       "    </tr>\n",
       "    <tr>\n",
       "      <th>April</th>\n",
       "      <td>1</td>\n",
       "    </tr>\n",
       "    <tr>\n",
       "      <th>June</th>\n",
       "      <td>1</td>\n",
       "    </tr>\n",
       "  </tbody>\n",
       "</table>\n",
       "<p>34936 rows × 1 columns</p>\n",
       "</div>"
      ],
      "text/plain": [
       "                       Count\n",
       "StockCode    Month          \n",
       "10002        December     40\n",
       "             November     39\n",
       "             June         38\n",
       "             May          38\n",
       "             July         26\n",
       "...                      ...\n",
       "gift_0001_90 August        1\n",
       "             January       1\n",
       "m            February      2\n",
       "             April         1\n",
       "             June          1\n",
       "\n",
       "[34936 rows x 1 columns]"
      ]
     },
     "execution_count": 46,
     "metadata": {},
     "output_type": "execute_result"
    }
   ],
   "source": [
    "df_demand"
   ]
  },
  {
   "cell_type": "markdown",
   "id": "12f46557",
   "metadata": {},
   "source": [
    "#### Here we can see that which product is in how much demand and at what month."
   ]
  },
  {
   "cell_type": "code",
   "execution_count": 47,
   "id": "f45f6c8a",
   "metadata": {},
   "outputs": [
    {
     "data": {
      "text/plain": [
       "445"
      ]
     },
     "execution_count": 47,
     "metadata": {},
     "output_type": "execute_result"
    }
   ],
   "source": [
    "df_demand.Count.max()"
   ]
  },
  {
   "cell_type": "code",
   "execution_count": 82,
   "id": "fe0240bc",
   "metadata": {},
   "outputs": [
    {
     "data": {
      "text/plain": [
       "1"
      ]
     },
     "execution_count": 82,
     "metadata": {},
     "output_type": "execute_result"
    }
   ],
   "source": [
    "df_demand.Count.min()"
   ]
  },
  {
   "cell_type": "code",
   "execution_count": 48,
   "id": "929dd23d",
   "metadata": {
    "scrolled": true
   },
   "outputs": [
    {
     "data": {
      "text/html": [
       "<div>\n",
       "<style scoped>\n",
       "    .dataframe tbody tr th:only-of-type {\n",
       "        vertical-align: middle;\n",
       "    }\n",
       "\n",
       "    .dataframe tbody tr th {\n",
       "        vertical-align: top;\n",
       "    }\n",
       "\n",
       "    .dataframe thead th {\n",
       "        text-align: right;\n",
       "    }\n",
       "</style>\n",
       "<table border=\"1\" class=\"dataframe\">\n",
       "  <thead>\n",
       "    <tr style=\"text-align: right;\">\n",
       "      <th></th>\n",
       "      <th></th>\n",
       "      <th>Count</th>\n",
       "    </tr>\n",
       "    <tr>\n",
       "      <th>StockCode</th>\n",
       "      <th>Month</th>\n",
       "      <th></th>\n",
       "    </tr>\n",
       "  </thead>\n",
       "  <tbody>\n",
       "    <tr>\n",
       "      <th>85123A</th>\n",
       "      <th>December</th>\n",
       "      <td>445</td>\n",
       "    </tr>\n",
       "  </tbody>\n",
       "</table>\n",
       "</div>"
      ],
      "text/plain": [
       "                    Count\n",
       "StockCode Month          \n",
       "85123A    December    445"
      ]
     },
     "execution_count": 48,
     "metadata": {},
     "output_type": "execute_result"
    }
   ],
   "source": [
    "df_demand[df_demand[\"Count\"]==445]"
   ]
  },
  {
   "cell_type": "markdown",
   "id": "067dc67b",
   "metadata": {},
   "source": [
    "#### Product having Sock code-85123A  is most demanded product"
   ]
  },
  {
   "cell_type": "markdown",
   "id": "6ea3732e",
   "metadata": {},
   "source": [
    "<br>"
   ]
  },
  {
   "cell_type": "markdown",
   "id": "89719e6f",
   "metadata": {},
   "source": [
    "## Some business insights"
   ]
  },
  {
   "cell_type": "markdown",
   "id": "eb3d4d06",
   "metadata": {},
   "source": [
    " - Their are only 4383 customers who are purchasing products and since thier are 525461 datapoint in our dataset which implies that customers are repeating at a frequent rate.\n",
    " - Customer ID-18102, 14646, 14911, 14156, 13694, 15311, 15061, 17511, 16684, 16754 are valuable customer and shop keeper should try o make better relation with this customers as their purchases are of high amounts.\n",
    " - November had witnessed highest number of customers but still highest purchases occured at month of April. As in April only 34057 customers had arrived in shop but purchases made by them is high as compare to customers arrived in month of november.\n",
    " - Product having stock code-85123A is among most famous product across all countries. Shop must contain or refill this product stock time to time.\n",
    " - Customer with ID-14911 is most a loyal customer as it has visited most of the time in shop though highest amount of purchased is made by customer having ID-18102.\n",
    " - Product having stock code- M had highest amount of sale, aslo product having stock code-85123A is the second most highest product with highest sale which implies that \"Product having stock code-85123A is a hero product of the shop\".\n",
    " - Customer can be segmented into different catagories according to the countries as most of the customers belongs to UK, EIRA, Germany & France "
   ]
  }
 ],
 "metadata": {
  "kernelspec": {
   "display_name": "Python 3 (ipykernel)",
   "language": "python",
   "name": "python3"
  },
  "language_info": {
   "codemirror_mode": {
    "name": "ipython",
    "version": 3
   },
   "file_extension": ".py",
   "mimetype": "text/x-python",
   "name": "python",
   "nbconvert_exporter": "python",
   "pygments_lexer": "ipython3",
   "version": "3.9.12"
  }
 },
 "nbformat": 4,
 "nbformat_minor": 5
}
